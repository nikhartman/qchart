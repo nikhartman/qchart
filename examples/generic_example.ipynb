{
 "cells": [
  {
   "cell_type": "code",
   "execution_count": 1,
   "metadata": {
    "tags": []
   },
   "outputs": [],
   "source": [
    "from qchart import start_listener, listener_is_running\n",
    "from qchart.client import DataSender\n",
    "from datetime import datetime\n",
    "import copy\n",
    "import time\n",
    "import numpy as np\n",
    "\n",
    "def get_new_id():\n",
    "    # use this to tag datasets\n",
    "    t = datetime.now().strftime('%Y-%M-%d_%H-%M-%S-%f')\n",
    "    return f'test_nik_{t}'"
   ]
  },
  {
   "cell_type": "code",
   "execution_count": 2,
   "metadata": {},
   "outputs": [],
   "source": [
    "from functools import partial\n",
    "\n",
    "def sine_model(x, freq: float, phase: float, noise: float=1):\n",
    "    \"\"\"\n",
    "    Returns a generator sampling a sine wave. The sine wave has an \n",
    "    amplitude of 1 and some noise\n",
    "    \"\"\"\n",
    "\n",
    "    rad_phase = np.pi*phase/180.0\n",
    "    model = np.sin(2*np.pi*x + rad_phase)\n",
    "    noise = np.random.rand(*model.shape)*noise\n",
    "    return np.array(model + noise)\n",
    "\n",
    "def gauss_model(x, y, x0: float, y0: float, sigma: float, noise: float=0.0005):\n",
    "    \"\"\"\n",
    "    Returns a generator sampling a gaussian. The gaussian is\n",
    "    normalised such that its maximal value is simply 1\n",
    "    \"\"\"\n",
    "    model = np.exp(-((x0-x)**2+(y0-y)**2)/2/sigma**2)*np.exp(2*sigma**2)\n",
    "    noise = np.random.rand(*model.shape)*noise\n",
    "    return (model + noise)"
   ]
  },
  {
   "cell_type": "code",
   "execution_count": 3,
   "metadata": {
    "tags": []
   },
   "outputs": [
    {
     "name": "stdout",
     "output_type": "stream",
     "text": [
      "starting qchart listener at c:\\users\\nikha\\repos\\qchart\\listener_start.py ...\n",
      "qchart listener successfully started.\n"
     ]
    }
   ],
   "source": [
    "if not listener_is_running():\n",
    "    start_listener()"
   ]
  },
  {
   "attachments": {},
   "cell_type": "markdown",
   "metadata": {},
   "source": [
    "### 1D data in one shot"
   ]
  },
  {
   "cell_type": "code",
   "execution_count": 6,
   "metadata": {
    "tags": []
   },
   "outputs": [],
   "source": [
    "# template for sending data through DataSender\n",
    "data_structure = {\n",
    "    'x_param': {\n",
    "        'values': [],\n",
    "        'unit': 'A'\n",
    "    },\n",
    "    'y_param': {\n",
    "        'values': [],\n",
    "        'unit': '',\n",
    "        'axes': ['x_param']\n",
    "    }\n",
    "}\n",
    "\n",
    "# getter function\n",
    "get_sin1 = partial(sine_model, freq=10, phase = 9, noise=0.1)\n",
    "\n",
    "x_vals = np.linspace(3,4,100)\n",
    "y_vals = get_sin1(x_vals)\n",
    "\n",
    "sndr = DataSender(get_new_id())\n",
    "\n",
    "data = copy.deepcopy(data_structure)\n",
    "data['x_param']['values'] = x_vals\n",
    "data['y_param']['values'] = y_vals\n",
    "\n",
    "sndr.send_data(data)"
   ]
  },
  {
   "attachments": {},
   "cell_type": "markdown",
   "metadata": {},
   "source": [
    "### 1D data in 1 shot with 2 outputs"
   ]
  },
  {
   "cell_type": "code",
   "execution_count": 7,
   "metadata": {},
   "outputs": [],
   "source": [
    "# template for sending data through DataSender\n",
    "data_structure = {\n",
    "    'x_param': {\n",
    "        'values': [],\n",
    "        'unit': 'mA'\n",
    "    },\n",
    "    'y_param': {\n",
    "        'values': [],\n",
    "        'unit': 'arb',\n",
    "        'axes': ['x_param']\n",
    "    },\n",
    "    'y_param_2': {\n",
    "        'values': [],\n",
    "        'unit': 'arb',\n",
    "        'axes': ['x_param']\n",
    "    }\n",
    "}\n",
    "\n",
    "# getter function\n",
    "get_sin1 = partial(sine_model, freq=10, phase = 9, noise=0.1)\n",
    "get_sin2 = partial(sine_model, freq=12, phase = 99, noise=0.02)\n",
    "\n",
    "x_vals = np.linspace(3,4,100)\n",
    "\n",
    "sndr = DataSender(get_new_id())\n",
    "\n",
    "data = copy.deepcopy(data_structure)\n",
    "data['x_param']['values'] = x_vals\n",
    "data['y_param']['values'] = get_sin1(x_vals)\n",
    "data['y_param_2']['values'] = get_sin2(x_vals)\n",
    "\n",
    "sndr.send_data(data)"
   ]
  },
  {
   "attachments": {},
   "cell_type": "markdown",
   "metadata": {},
   "source": [
    "### Stream 1D data"
   ]
  },
  {
   "cell_type": "code",
   "execution_count": 10,
   "metadata": {},
   "outputs": [],
   "source": [
    "# template for sending data through DataSender\n",
    "data_structure = {\n",
    "    'x_param': {\n",
    "        'values': [],\n",
    "        'unit': 'mA'\n",
    "    },\n",
    "    'y_param': {\n",
    "        'values': [],\n",
    "        'unit': 'arb',\n",
    "        'axes': ['x_param']\n",
    "    },\n",
    "    'y_param_2': {\n",
    "        'values': [],\n",
    "        'unit': 'arb',\n",
    "        'axes': ['x_param']\n",
    "    }\n",
    "}\n",
    "\n",
    "# getter function\n",
    "get_sin1 = partial(sine_model, freq=10, phase = 9, noise=0.1)\n",
    "get_sin2 = partial(sine_model, freq=12, phase = 99, noise=0.02)\n",
    "\n",
    "x_vals = np.linspace(0,5,1000).reshape(20,-1)\n",
    "\n",
    "sndr = DataSender(get_new_id())\n",
    "\n",
    "for x in x_vals:\n",
    "    data = copy.deepcopy(data_structure)\n",
    "    data['x_param']['values'] = x\n",
    "    data['y_param']['values'] = get_sin1(x)\n",
    "    data['y_param_2']['values'] = get_sin2(x)\n",
    "\n",
    "    time.sleep(0.2) # artifical delay to pretent like we're collecting data\n",
    "\n",
    "    sndr.send_data(data)"
   ]
  },
  {
   "attachments": {},
   "cell_type": "markdown",
   "metadata": {},
   "source": [
    "### 2D data in a few shots"
   ]
  },
  {
   "cell_type": "code",
   "execution_count": 13,
   "metadata": {},
   "outputs": [],
   "source": [
    "# template for sending data through DataSender\n",
    "data_structure = {\n",
    "    'x_param': {\n",
    "        'values': [],\n",
    "        'unit': 'mA'\n",
    "    },\n",
    "    'y_param': {\n",
    "        'values': [],\n",
    "        'unit': 'arb',\n",
    "    },\n",
    "    'z_param': {\n",
    "        'values': [],\n",
    "        'unit': 'arb',\n",
    "        'axes': ['x_param','y_param']\n",
    "    }\n",
    "}\n",
    "\n",
    "# getter function\n",
    "get_gauss1 = partial(gauss_model, x0=0, y0=0.3, sigma=0.2, noise=0.08)\n",
    "\n",
    "x_vals = np.linspace(-0.5,1.5,15)\n",
    "y_vals = np.linspace(-1,1,15)\n",
    "\n",
    "grid = np.stack(np.meshgrid(y_vals,x_vals)).reshape(2,-1).T\n",
    "chunks = 17\n",
    "points_per_send = grid.shape[0] // chunks\n",
    "\n",
    "sndr = DataSender(get_new_id())\n",
    "\n",
    "for ii in range(chunks):\n",
    "    \n",
    "    start = ii*points_per_send\n",
    "    if ii + 1 == chunks:\n",
    "        end = grid.shape[0]\n",
    "    else:\n",
    "        end = (ii + 1)*points_per_send\n",
    "\n",
    "    data = copy.deepcopy(data_structure)\n",
    "    data['x_param']['values'] = grid[start:end,1]\n",
    "    data['y_param']['values'] = grid[start:end,0]\n",
    "    data['z_param']['values'] = get_gauss1(data['x_param']['values'], data['y_param']['values'])\n",
    "\n",
    "    sndr.send_data(data)\n",
    "\n",
    "    time.sleep(0.5)"
   ]
  },
  {
   "attachments": {},
   "cell_type": "markdown",
   "metadata": {},
   "source": [
    "### 2D point by point"
   ]
  },
  {
   "cell_type": "code",
   "execution_count": 29,
   "metadata": {},
   "outputs": [],
   "source": [
    "# template for sending data through DataSender\n",
    "data_structure = {\n",
    "    'x_param': {\n",
    "        'values': [],\n",
    "        'unit': 'mA'\n",
    "    },\n",
    "    'y_param': {\n",
    "        'values': [],\n",
    "        'unit': 'V',\n",
    "    },\n",
    "    'z_param': {\n",
    "        'values': [],\n",
    "        'unit': 'arb',\n",
    "        'axes': ['x_param','y_param']\n",
    "    }\n",
    "}\n",
    "\n",
    "# getter function\n",
    "get_gauss1 = partial(gauss_model, x0=0, y0=0.3, sigma=0.2, noise=0.08)\n",
    "\n",
    "x_vals = np.linspace(-0.5,1.5,15)\n",
    "y_vals = np.linspace(-1,1,15)\n",
    "\n",
    "sndr = DataSender(get_new_id())\n",
    "\n",
    "for x in x_vals:\n",
    "    for y in y_vals:\n",
    "\n",
    "        data = copy.deepcopy(data_structure)\n",
    "        data['x_param']['values'] = x\n",
    "        data['y_param']['values'] = y\n",
    "        data['z_param']['values'] = get_gauss1(data['x_param']['values'], data['y_param']['values'])\n",
    "\n",
    "        sndr.send_data(data)\n",
    "\n",
    "        time.sleep(0.05)"
   ]
  },
  {
   "attachments": {},
   "cell_type": "markdown",
   "metadata": {},
   "source": [
    "### 2D with 2 outputs"
   ]
  },
  {
   "cell_type": "code",
   "execution_count": 28,
   "metadata": {},
   "outputs": [],
   "source": [
    "# template for sending data through DataSender\n",
    "data_structure = {\n",
    "    'x_param': {\n",
    "        'values': [],\n",
    "        'unit': 'mA'\n",
    "    },\n",
    "    'y_param': {\n",
    "        'values': [],\n",
    "        'unit': 'V',\n",
    "    },\n",
    "    'z_param': {\n",
    "        'values': [],\n",
    "        'unit': 'arb',\n",
    "        'axes': ['x_param','y_param']\n",
    "    },\n",
    "    'z_param_2': {\n",
    "        'values': [],\n",
    "        'unit': 'arb',\n",
    "        'axes': ['x_param','y_param']\n",
    "    }\n",
    "}\n",
    "\n",
    "# getter function\n",
    "get_gauss1 = partial(gauss_model, x0=0, y0=0.33, sigma=0.2, noise=0.08)\n",
    "get_gauss2 = partial(gauss_model, x0=-0.1, y0=0.1, sigma=0.2, noise=0.15)\n",
    "\n",
    "x_vals = np.linspace(-0.5,1.5,15)\n",
    "y_vals = np.linspace(-1,1,15)\n",
    "\n",
    "sndr = DataSender(get_new_id())\n",
    "\n",
    "for x in x_vals:\n",
    "\n",
    "    data = copy.deepcopy(data_structure)\n",
    "    data['x_param']['values'] = np.repeat(x,y_vals.shape)\n",
    "    data['y_param']['values'] = y_vals\n",
    "    data['z_param']['values'] = get_gauss1(data['x_param']['values'], data['y_param']['values'])\n",
    "    data['z_param_2']['values'] = -1*get_gauss2(data['x_param']['values'], data['y_param']['values'])\n",
    "\n",
    "    sndr.send_data(data)\n",
    "\n",
    "    time.sleep(0.5)"
   ]
  },
  {
   "cell_type": "code",
   "execution_count": 35,
   "metadata": {},
   "outputs": [],
   "source": [
    "import pandas as pd\n",
    "\n",
    "coord_names = ['x_param']\n",
    "coord_vals = [np.array([1,2,3,4,5])]\n",
    "multi_idx = pd.MultiIndex.from_arrays(coord_vals,names=coord_names)\n",
    "\n",
    "param_label = 'thing'\n",
    "vals = np.random.rand(*coord_vals[0].shape)\n",
    "param_df = pd.DataFrame(vals, multi_idx, columns=[param_label])"
   ]
  },
  {
   "cell_type": "code",
   "execution_count": 44,
   "metadata": {},
   "outputs": [
    {
     "data": {
      "text/plain": [
       "'{\"schema\":{\"fields\":[{\"name\":\"values\",\"type\":\"string\"},{\"name\":\"thing\",\"type\":\"number\"}],\"primaryKey\":[null],\"pandas_version\":\"1.4.0\"},\"data\":[{\"x_param\":1,\"thing\":0.8697131599},{\"x_param\":2,\"thing\":0.9602222654},{\"x_param\":3,\"thing\":0.3895710519},{\"x_param\":4,\"thing\":0.0660289395},{\"x_param\":5,\"thing\":0.4253712318}]}'"
      ]
     },
     "execution_count": 44,
     "metadata": {},
     "output_type": "execute_result"
    }
   ],
   "source": [
    "param_df.to_json(orient='table')"
   ]
  },
  {
   "cell_type": "code",
   "execution_count": 68,
   "metadata": {},
   "outputs": [
    {
     "data": {
      "text/plain": [
       "array([1., 2., 3.])"
      ]
     },
     "execution_count": 68,
     "metadata": {},
     "output_type": "execute_result"
    }
   ],
   "source": [
    "a = [1,2,3]\n"
   ]
  },
  {
   "cell_type": "code",
   "execution_count": null,
   "metadata": {},
   "outputs": [],
   "source": []
  }
 ],
 "metadata": {
  "kernelspec": {
   "display_name": "Python 3 (ipykernel)",
   "language": "python",
   "name": "python3"
  },
  "language_info": {
   "codemirror_mode": {
    "name": "ipython",
    "version": 3
   },
   "file_extension": ".py",
   "mimetype": "text/x-python",
   "name": "python",
   "nbconvert_exporter": "python",
   "pygments_lexer": "ipython3",
   "version": "3.10.13"
  }
 },
 "nbformat": 4,
 "nbformat_minor": 4
}
